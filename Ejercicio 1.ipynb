{
 "cells": [
  {
   "cell_type": "markdown",
   "metadata": {},
   "source": [
    "# Descripción\n",
    "\n",
    "El ejercicio 1 se basa en descargar el archivo ***all_data.csv*** que es la Base de datos histórica de *Quién es Quién en los Precios* de Profeco.\n",
    "El cuál se basa en cinco preguntas:\n",
    "<ol>\n",
    "  <li>¿Cuántos registros hay?</li>\n",
    "  <li>¿Cuántas categorías?</li>\n",
    "  <li>¿Cuántas cadenas comerciales están siendo monitoreadas (y, por lo tanto, reportadas en esa base de datos)?</li>\n",
    "    <li>¿Cuáles son los productos más monitoreados en cada estado de la república?</li>\n",
    "    <li>¿Cuál es la cadena comercial con mayor variedad de productos monitoreados?<l/i>\n",
    "</ol>\n",
    "\n",
    "Las herramientas a usar son jupyter y pyspark  en su versión 2.4.5.\n",
    "\n",
    "## Introducción\n",
    "\n",
    "Se realiza la  importaciones de los módulos para trabajar con el archivo descargado."
   ]
  },
  {
   "cell_type": "code",
   "execution_count": 1,
   "metadata": {},
   "outputs": [],
   "source": [
    "#modules\n",
    "from pyspark.sql import  SQLContext, SparkSession\n",
    "from pyspark import SparkContext"
   ]
  },
  {
   "cell_type": "markdown",
   "metadata": {},
   "source": [
    "Se inicializa el SparkContext, SQLContext y SparkSession con el fin de inicializar las APIs Spark y Spark SQL."
   ]
  },
  {
   "cell_type": "code",
   "execution_count": 2,
   "metadata": {},
   "outputs": [],
   "source": [
    "name = 'exercise 1'\n",
    "sc = SparkContext(appName= name)\n",
    "sql_c = SQLContext(sc)"
   ]
  },
  {
   "cell_type": "markdown",
   "metadata": {},
   "source": [
    "## Pregunta 1 :¿Cuántos registros hay?\n",
    "\n",
    "\n",
    "Para esto es necesario leer el archivo gracias al método de Spark SQL *read.format* que lee archivos *csv*."
   ]
  },
  {
   "cell_type": "code",
   "execution_count": 3,
   "metadata": {},
   "outputs": [
    {
     "name": "stdout",
     "output_type": "stream",
     "text": [
      "root\n",
      " |-- producto: string (nullable = true)\n",
      " |-- presentacion: string (nullable = true)\n",
      " |-- marca: string (nullable = true)\n",
      " |-- categoria: string (nullable = true)\n",
      " |-- catalogo: string (nullable = true)\n",
      " |-- precio: string (nullable = true)\n",
      " |-- fechaRegistro: string (nullable = true)\n",
      " |-- cadenaComercial: string (nullable = true)\n",
      " |-- giro: string (nullable = true)\n",
      " |-- nombreComercial: string (nullable = true)\n",
      " |-- direccion: string (nullable = true)\n",
      " |-- estado: string (nullable = true)\n",
      " |-- municipio: string (nullable = true)\n",
      " |-- latitud: string (nullable = true)\n",
      " |-- longitud: string (nullable = true)\n",
      "\n",
      "shape (62530715, 15)\n",
      "numero de registros: 62530715\n"
     ]
    }
   ],
   "source": [
    "df = sql_c.read.format('csv').options(header='true').load('all_data.csv')\n",
    "sql_c.registerDataFrameAsTable(df, \"all_data\")\n",
    "\n",
    "df.printSchema()\n",
    "count_output = df.count()\n",
    "\n",
    "print(\"shape\",(count_output, len(df.columns)))\n",
    "print(\"numero de registros:\", count_output)"
   ]
  },
  {
   "cell_type": "markdown",
   "metadata": {},
   "source": [
    "Gracias a la función *count()* del DataFrame que generó Spark SQL se obtiene que existen **625,307,155 registros**."
   ]
  },
  {
   "cell_type": "markdown",
   "metadata": {},
   "source": [
    "## Pregunta 2 : ¿Cuántas categorías?\n",
    "\n",
    "El Dataframe tiene una columna de nombre categoría, para identificar todos los valores se  hace una consulta."
   ]
  },
  {
   "cell_type": "code",
   "execution_count": 4,
   "metadata": {},
   "outputs": [
    {
     "name": "stdout",
     "output_type": "stream",
     "text": [
      "+----------------------------------+\n",
      "|categoria                         |\n",
      "+----------------------------------+\n",
      "|MATERIAL ESCOLAR                  |\n",
      "|ARTS. PARA EL CUIDADO PERSONAL    |\n",
      "|PESCADOS Y MARISCOS EN CONSERVA   |\n",
      "|UTENSILIOS DOMESTICOS             |\n",
      "|categoria                         |\n",
      "|DETERGENTES Y PRODUCTOS SIMILARES |\n",
      "|CARNE Y VISCERAS DE RES           |\n",
      "|PRODUCTOS DE TEMPORADA (NAVIDEÐOS)|\n",
      "|GALLETAS PASTAS Y HARINAS DE TRIGO|\n",
      "|HORTALIZAS FRESCAS                |\n",
      "|null                              |\n",
      "|DERIVADOS DE LECHE                |\n",
      "|TORTILLAS Y DERIVADOS DEL MAIZ    |\n",
      "|GRASAS ANIMALES COMESTIBLES       |\n",
      "|APARATOS ELECTRONICOS             |\n",
      "|LEGUMBRES SECAS                   |\n",
      "|CAFE                              |\n",
      "|MUEBLES DE COCINA                 |\n",
      "|CARNES FRIAS SECAS Y EMBUTIDOS    |\n",
      "|CHOCOLATES Y GOLOSINAS            |\n",
      "|PAN                               |\n",
      "|CERVEZA                           |\n",
      "|MEDICAMENTOS                      |\n",
      "|CONDIMENTOS                       |\n",
      "|REFRESCOS ENVASADOS               |\n",
      "|ACEITES Y GRASAS VEG. COMESTIBLES |\n",
      "|TE                                |\n",
      "|PESCADOS Y MARISCOS               |\n",
      "|CARNE DE AVE                      |\n",
      "|FRUTAS Y LEGUMBRES PROCESADAS     |\n",
      "|VINOS Y LICORES                   |\n",
      "|CARNE Y VISCERAS DE CERDO         |\n",
      "|ACCESORIOS DOMESTICOS             |\n",
      "|FRUTAS FRESCAS                    |\n",
      "|ARROZ Y CEREALES PREPARADOS       |\n",
      "|APARATOS ELECTRICOS               |\n",
      "|ARTS. DE ESPARCIMIENTO (JUGUETES) |\n",
      "|CIGARRILLOS                       |\n",
      "|HUEVO                             |\n",
      "|LECHE PROCESADA                   |\n",
      "|AZUCAR                            |\n",
      "|ARTS. DE PAPEL P/HIGIENE PERSONAL |\n",
      "+----------------------------------+\n",
      "\n",
      "shape (42, 1)\n",
      "numero de categorias: 42\n"
     ]
    }
   ],
   "source": [
    "df.createOrReplaceTempView(\"all_data\")\n",
    "sqlDF = sql_c.sql(\"SELECT DISTINCT categoria FROM all_data\")\n",
    "sqlDF.show(50,False)\n",
    "count_output = sqlDF.count()\n",
    "print(\"shape\",(count_output, len(sqlDF.columns)))\n",
    "print(\"numero de categorias:\", count_output)"
   ]
  },
  {
   "cell_type": "markdown",
   "metadata": {},
   "source": [
    "La respuesta a la pregunta son **42 categorias**."
   ]
  },
  {
   "cell_type": "markdown",
   "metadata": {},
   "source": [
    "## Pregunta 3: ¿Cuántas cadenas comerciales están siendo monitoreadas (y, por lo tanto, reportadas en esa base de datos)?\n",
    "\n",
    "De la misma forma que se realizó con la pregunta 2 se hace una consulta en la columna de cadenas comerciales."
   ]
  },
  {
   "cell_type": "code",
   "execution_count": 5,
   "metadata": {},
   "outputs": [
    {
     "name": "stdout",
     "output_type": "stream",
     "text": [
      "+------------------------+\n",
      "|cadenaComercial         |\n",
      "+------------------------+\n",
      "|JULIO CEPEDA JUGUETERIAS|\n",
      "|WOOLWORTH               |\n",
      "|MARISCOS LA SEPTIMA     |\n",
      "|PAPELERIA EL TINTERO    |\n",
      "|LIBRERIA DE SANCHO PANZA|\n",
      "+------------------------+\n",
      "only showing top 5 rows\n",
      "\n",
      "shape (706, 1)\n",
      "numero de cadenas comerciales: 706\n"
     ]
    }
   ],
   "source": [
    "df.createOrReplaceTempView(\"all_data\")\n",
    "sqlDF = sql_c.sql(\"SELECT DISTINCT cadenaComercial FROM all_data\")\n",
    "sqlDF.show(5,False)\n",
    "count_output = sqlDF.count()\n",
    "print(\"shape\",(count_output, len(sqlDF.columns)))\n",
    "print(\"numero de cadenas comerciales:\", count_output)"
   ]
  },
  {
   "cell_type": "markdown",
   "metadata": {},
   "source": [
    "El resultado de la consulta son **706 cadenas comerciales**."
   ]
  },
  {
   "cell_type": "markdown",
   "metadata": {},
   "source": [
    "## Pregunta 4 : ¿Cuáles son los productos más monitoreados en cada estado de la república?\n",
    "\n",
    "Esta pregunta requiere de identificar los productos que más se encuentren por estado, esto se puede realizar gracias al método de *groupby* se hace el conteo de cada valor de producto  con respecto  cada valor de estado."
   ]
  },
  {
   "cell_type": "code",
   "execution_count": 6,
   "metadata": {},
   "outputs": [
    {
     "name": "stdout",
     "output_type": "stream",
     "text": [
      "+--------------------+--------------------+-----+\n",
      "|            producto|              estado|count|\n",
      "+--------------------+--------------------+-----+\n",
      "|              FLANAX|    DISTRITO FEDERAL| 6604|\n",
      "|              PEPINO|          GUANAJUATO| 2280|\n",
      "|DOLO-NEUROBION FORTE|           QUERÉTARO| 2137|\n",
      "|             CEBOLLA| MICHOACÁN DE OCAMPO| 3967|\n",
      "|          SURGAM 300| MICHOACÁN DE OCAMPO|  381|\n",
      "|             VINAGRE|VERACRUZ DE IGNAC...| 2376|\n",
      "|        CREMA SOLIDA|VERACRUZ DE IGNAC...| 1738|\n",
      "|      LECHE EN POLVO|          GUANAJUATO|21360|\n",
      "|                ADEL|             HIDALGO|  144|\n",
      "|               DOLAC|          GUANAJUATO| 1749|\n",
      "|     POLVO P/HORNEAR|             YUCATÁN| 1990|\n",
      "|CHOCOLATE EN TABL...|              OAXACA| 1621|\n",
      "|             LENTEJA|              OAXACA| 1719|\n",
      "|               LIMON|          NUEVO LEÓN| 5387|\n",
      "|    LECHE CONDENSADA|        QUINTANA ROO| 7040|\n",
      "|           ZUCARITAS|        QUINTANA ROO| 1290|\n",
      "|CHOCOLATE EN TABL...|              PUEBLA| 2930|\n",
      "|      FORMULA LACTEA|             HIDALGO| 1804|\n",
      "|     LECHE EVAPORADA|             HIDALGO| 2060|\n",
      "|            PLANCHAS|      AGUASCALIENTES| 6322|\n",
      "+--------------------+--------------------+-----+\n",
      "only showing top 20 rows\n",
      "\n"
     ]
    }
   ],
   "source": [
    "grouped = df.groupby('producto','estado').count()\n",
    "grouped.show()"
   ]
  },
  {
   "cell_type": "markdown",
   "metadata": {},
   "source": [
    "Con el fin de identificar el producto más monitoreado por estado  se hace a partir de Window donde se especifica el proceso para agrupar los valores de manera descendente."
   ]
  },
  {
   "cell_type": "code",
   "execution_count": 7,
   "metadata": {},
   "outputs": [
    {
     "name": "stdout",
     "output_type": "stream",
     "text": [
      "+-----------------------+-------------------------------+------+\n",
      "|producto               |estado                         |count |\n",
      "+-----------------------+-------------------------------+------+\n",
      "|DETERGENTE P/ROPA      |MICHOACÁN DE OCAMPO            |40144 |\n",
      "|DETERGENTE P/ROPA      |CHIHUAHUA                      |15982 |\n",
      "|DETERGENTE P/ROPA      |DURANGO                        |9696  |\n",
      "|DETERGENTE P/ROPA      |ZACATECAS                      |20884 |\n",
      "|DETERGENTE P/ROPA      |NUEVO LEÓN                     |50307 |\n",
      "|DETERGENTE P/ROPA      |COLIMA                         |17193 |\n",
      "|FUD                    |COAHUILA DE ZARAGOZA           |28613 |\n",
      "|FUD                    |SAN LUIS POTOSÍ                |10164 |\n",
      "|FUD                    |AGUASCALIENTES                 |12005 |\n",
      "|FUD                    |QUINTANA ROO                   |34846 |\n",
      "|FUD                    |CAMPECHE                       |12960 |\n",
      "|LECHE ULTRAPASTEURIZADA|YUCATÁN                        |35991 |\n",
      "|LECHE ULTRAPASTEURIZADA|OAXACA                         |18078 |\n",
      "|LECHE ULTRAPASTEURIZADA|null                           |804   |\n",
      "|LECHE ULTRAPASTEURIZADA|QUERÉTARO                      |27868 |\n",
      "|PAN BLANCO BOLILLO     | ESQ. SUR 125\"                 |130   |\n",
      "|REFRESCO               | COL. EDUARDO GUERRA           |275   |\n",
      "|REFRESCO               |BAJA CALIFORNIA                |37243 |\n",
      "|REFRESCO               |CHIAPAS                        |14452 |\n",
      "|REFRESCO               |SINALOA                        |33115 |\n",
      "|REFRESCO               |SONORA                         |34731 |\n",
      "|REFRESCO               |TLAXCALA                       |43904 |\n",
      "|REFRESCO               |GUERRERO                       |8932  |\n",
      "|REFRESCO               |HIDALGO                        |18137 |\n",
      "|REFRESCO               |TABASCO                        |28754 |\n",
      "|REFRESCO               |GUANAJUATO                     |49441 |\n",
      "|REFRESCO               |MORELOS                        |9632  |\n",
      "|REFRESCO               |PUEBLA                         |31597 |\n",
      "|REFRESCO               |VERACRUZ DE IGNACIO DE LA LLAVE|14576 |\n",
      "|REFRESCO               |BAJA CALIFORNIA SUR            |27770 |\n",
      "|REFRESCO               |NAYARIT                        |8003  |\n",
      "|REFRESCO               |DISTRITO FEDERAL               |287463|\n",
      "|REFRESCO               |TAMAULIPAS                     |22457 |\n",
      "|REFRESCO               |JALISCO                        |81718 |\n",
      "|REFRESCO               |MÉXICO                         |194939|\n",
      "|producto               |estado                         |20    |\n",
      "+-----------------------+-------------------------------+------+\n",
      "\n"
     ]
    }
   ],
   "source": [
    "from pyspark.sql.window import Window\n",
    "from pyspark.sql.functions import rank, col\n",
    "\n",
    "window = (Window\n",
    "          .partitionBy(grouped['estado'])\n",
    "          .orderBy(grouped['count'].desc(), grouped['producto']))\n",
    "\n",
    "\n",
    "td = (grouped\n",
    " .select('*', rank()\n",
    " .over(window)\n",
    " .alias('rank')) \n",
    "  .filter(col('rank') == 1)\n",
    "  .orderBy(col('producto'))\n",
    "  .drop('rank'))\n",
    "\n",
    "td.show(40,False)"
   ]
  },
  {
   "cell_type": "markdown",
   "metadata": {},
   "source": [
    "## Pregunta 5: ¿Cuál es la cadena comercial con mayor variedad de productos monitoreados?\n",
    "\n",
    "Para obtener el resultado se realiza una consulta del conteo de los  diferentes productos que cada cadena  comercial tiene en general, como se muestra en el siguiente código donde se indican ***100,754 productos***.\n"
   ]
  },
  {
   "cell_type": "code",
   "execution_count": 8,
   "metadata": {},
   "outputs": [
    {
     "name": "stdout",
     "output_type": "stream",
     "text": [
      "+--------------------+--------------------+-----+\n",
      "|            producto|     cadenaComercial|count|\n",
      "+--------------------+--------------------+-----+\n",
      "|HORTALIZAS CONGEL...|  COMERCIAL MEXICANA|12927|\n",
      "|     PAPEL HIGIENICO|  COMERCIAL MEXICANA|17371|\n",
      "|             BACTRIM|            WAL-MART| 2576|\n",
      "|             CLEXANE|            WAL-MART| 2999|\n",
      "|    FUD. TURKEY LINE|             SORIANA| 6763|\n",
      "|            ASPIRINA|     SANBORN S HNOS.| 3208|\n",
      "|            RIVOTRIL|         FARMAPRONTO|  167|\n",
      "|SERVILLETAS DE PA...|            I.M.S.S.| 8655|\n",
      "|             MOSTAZA|            I.M.S.S.| 5097|\n",
      "|                ADEL|  FARMACIAS EL FENIX|   94|\n",
      "|              SANDIA|            CASA LEY|  778|\n",
      "| HORNO DE MICROONDAS|      BODEGA AURRERA|17435|\n",
      "|CHOCOLATE EN TABL...|      BODEGA AURRERA|17098|\n",
      "|      JABON DE PASTA|      BODEGA AURRERA|27554|\n",
      "|        QUESO OAXACA|MEGA COMERCIAL ME...|  323|\n",
      "|           ESMERALDA|        SORIANA PLUS| 4441|\n",
      "|             CERVEZA|              H.E.B.|14959|\n",
      "|COMPONENTES DE AUDIO|        SORIANA PLUS| 4795|\n",
      "|              VIAGRA|      BODEGA AURRERA| 6609|\n",
      "|            FUD YORK|              H.E.B.| 1884|\n",
      "+--------------------+--------------------+-----+\n",
      "only showing top 20 rows\n",
      "\n",
      "100754 productos por cada cadena comecial\n"
     ]
    }
   ],
   "source": [
    "dt = df.groupBy('producto','cadenaComercial').count()\n",
    "dt.show()\n",
    "\n",
    "print(dt.count(), \"productos por cada cadena comecial\")"
   ]
  },
  {
   "cell_type": "markdown",
   "metadata": {},
   "source": [
    "Posteriormente, se hace una consulta donde se ordenan las cadenas comerciales por el número de veces que se repiten en la columna."
   ]
  },
  {
   "cell_type": "code",
   "execution_count": 9,
   "metadata": {},
   "outputs": [
    {
     "name": "stdout",
     "output_type": "stream",
     "text": [
      "+--------------------+-----+\n",
      "|     cadenaComercial|count|\n",
      "+--------------------+-----+\n",
      "|             SORIANA| 1059|\n",
      "|            WAL-MART| 1051|\n",
      "|MEGA COMERCIAL ME...| 1049|\n",
      "|  COMERCIAL MEXICANA| 1036|\n",
      "|            CHEDRAUI| 1026|\n",
      "|     MERCADO SORIANA| 1024|\n",
      "|      BODEGA AURRERA| 1012|\n",
      "|HIPERMERCADO SORIANA| 1006|\n",
      "|              H.E.B.| 1001|\n",
      "|        SORIANA PLUS|  999|\n",
      "|       SORIANA SUPER|  996|\n",
      "|BODEGA COMERCIAL ...|  979|\n",
      "|        I.S.S.S.T.E.|  937|\n",
      "|            SUPERAMA|  936|\n",
      "|              S MART|  851|\n",
      "|SUPERMERCADOS SAN...|  849|\n",
      "|              SUMESA|  848|\n",
      "|         CITY MARKET|  844|\n",
      "|FARMACIA GUADALAJARA|  819|\n",
      "|            CASA LEY|  808|\n",
      "+--------------------+-----+\n",
      "only showing top 20 rows\n",
      "\n",
      "706 centros comerciales\n"
     ]
    }
   ],
   "source": [
    "from pyspark.sql.functions import desc\n",
    "do = dt.groupBy('cadenaComercial').count().sort(desc(\"count\"))\n",
    "\n",
    "do.show()\n",
    "print(do.count(), \"centros comerciales\")"
   ]
  },
  {
   "cell_type": "markdown",
   "metadata": {},
   "source": [
    "La cadena comercial con mayores productos es ***SORIANA con 1059 productos ***."
   ]
  }
 ],
 "metadata": {
  "kernelspec": {
   "display_name": "Python 3",
   "language": "python",
   "name": "python3"
  },
  "language_info": {
   "codemirror_mode": {
    "name": "ipython",
    "version": 3
   },
   "file_extension": ".py",
   "mimetype": "text/x-python",
   "name": "python",
   "nbconvert_exporter": "python",
   "pygments_lexer": "ipython3",
   "version": "3.7.6"
  }
 },
 "nbformat": 4,
 "nbformat_minor": 4
}
