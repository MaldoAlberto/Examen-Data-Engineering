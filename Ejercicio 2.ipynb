{
 "cells": [
  {
   "cell_type": "markdown",
   "metadata": {},
   "source": [
    "# Descripción\n",
    "\n",
    "El ejercicio 2 se basa en modificar el archivo ***demo.csv*** que contiene una tabla con información de aeropuertos en el mundo.\n",
    "El cuál se basa en tres puntos diferentes:\n",
    "<ol>\n",
    "  <li>Generar un diccionario a partir de la columna country (country_id,country).</li>\n",
    "  <li>Escribir el diccionario como CSV desde spark.</li>\n",
    "  <li>Leer el CSV generado y hacer inner join con demo.csv</li>\n",
    "</ol>\n",
    "\n",
    "Las herramientas a usar son jupyter y pyspark  en su versión 2.4.5.\n",
    "\n",
    "## Introducción\n",
    "\n",
    "Se realiza la  importaciones de los módulos para trabajar con la lectura del archivo."
   ]
  },
  {
   "cell_type": "code",
   "execution_count": 1,
   "metadata": {},
   "outputs": [],
   "source": [
    "#modules\n",
    "#spark version  2.4.5\n",
    "from pyspark.sql import  SQLContext, SparkSession\n",
    "from pyspark import SparkContext"
   ]
  },
  {
   "cell_type": "markdown",
   "metadata": {},
   "source": [
    "Se inicializa el SparkContext, SQLContext y SparkSession con el fin de inicializar las APIs Spark y Spark SQL."
   ]
  },
  {
   "cell_type": "code",
   "execution_count": 2,
   "metadata": {},
   "outputs": [],
   "source": [
    "name = 'exercise 2'\n",
    "master = 'local'\n",
    "\n",
    "\n",
    "sc = SparkContext(appName= name)\n",
    "sql_c = SQLContext(sc)\n",
    "spark = SparkSession.builder \\\n",
    "    .appName(name) \\\n",
    "    .enableHiveSupport() \\\n",
    "    .master(master) \\\n",
    "    .getOrCreate()"
   ]
  },
  {
   "cell_type": "markdown",
   "metadata": {},
   "source": [
    "Se usa el método read.format de Spark SQL para leer el archivo  ***demo.csv*** y con el método *printSchema* muestra el encabezado de dicho archivo. "
   ]
  },
  {
   "cell_type": "code",
   "execution_count": 3,
   "metadata": {},
   "outputs": [
    {
     "name": "stdout",
     "output_type": "stream",
     "text": [
      "root\n",
      " |-- airline_id: string (nullable = true)\n",
      " |-- name: string (nullable = true)\n",
      " |-- alias: string (nullable = true)\n",
      " |-- iata: string (nullable = true)\n",
      " |-- icao: string (nullable = true)\n",
      " |-- callsign: string (nullable = true)\n",
      " |-- country: string (nullable = true)\n",
      " |-- active: string (nullable = true)\n",
      "\n"
     ]
    }
   ],
   "source": [
    "df = sql_c.read.format('csv').options(header='true').load('demo.csv')\n",
    "df.printSchema()"
   ]
  },
  {
   "cell_type": "markdown",
   "metadata": {},
   "source": [
    "El siguiente ar de líneas se usa con el fin de mostrar los cinco primeros registros del archivo y  el tamaño de filas y columnas, en este caso son *6,162 registros,7 atributos y el id*."
   ]
  },
  {
   "cell_type": "code",
   "execution_count": 4,
   "metadata": {},
   "outputs": [
    {
     "name": "stdout",
     "output_type": "stream",
     "text": [
      "+----------+--------------------------------------------+-----+----+----+--------+--------------+------+\n",
      "|airline_id|name                                        |alias|iata|icao|callsign|country       |active|\n",
      "+----------+--------------------------------------------+-----+----+----+--------+--------------+------+\n",
      "|-1        |Unknown                                     |\\N   |-   |N/A |\\N      |\\N            |Y     |\n",
      "|1         |Private flight                              |\\N   |-   |N/A |null    |null          |Y     |\n",
      "|2         |135 Airways                                 |\\N   |null|GNL |GENERAL |United States |N     |\n",
      "|3         |1Time Airline                               |\\N   |1T  |RNX |NEXTIME |South Africa  |Y     |\n",
      "|4         |2 Sqn No 1 Elementary Flying Training School|\\N   |null|WYT |null    |United Kingdom|N     |\n",
      "+----------+--------------------------------------------+-----+----+----+--------+--------------+------+\n",
      "only showing top 5 rows\n",
      "\n",
      "(6162, 8)\n"
     ]
    }
   ],
   "source": [
    "df.show(5,False)\n",
    "print((df.count(), len(df.columns)))"
   ]
  },
  {
   "cell_type": "markdown",
   "metadata": {},
   "source": [
    "## Punto 1\n",
    "\n",
    "Se genera el diccionario a partir de la columna a partir del id que se considera como airline_id y country, para esto se mapea en forma de diccionario los datos entre los indices '0' y '6' que representan los atributos requeridos."
   ]
  },
  {
   "cell_type": "code",
   "execution_count": 5,
   "metadata": {},
   "outputs": [],
   "source": [
    "newrdd = df.rdd.map(lambda x : (x[0],x[6]))\n",
    "type(newrdd)\n",
    "dictionary = newrdd.collectAsMap()"
   ]
  },
  {
   "cell_type": "markdown",
   "metadata": {},
   "source": [
    "Se muestra el formato que tiene el diccionario que cumple con los valores que se indican."
   ]
  },
  {
   "cell_type": "code",
   "execution_count": 6,
   "metadata": {},
   "outputs": [
    {
     "name": "stdout",
     "output_type": "stream",
     "text": [
      "-1 \\N\n",
      "1 None\n",
      "2 United States\n",
      "3 South Africa\n",
      "4 United Kingdom\n"
     ]
    }
   ],
   "source": [
    "i = 0\n",
    "for k, v in dictionary.items():\n",
    "  if i == 5:\n",
    "    break\n",
    "  print(k,v)\n",
    "  i+=1"
   ]
  },
  {
   "cell_type": "markdown",
   "metadata": {},
   "source": [
    "## Punto 2\n",
    "\n",
    "Se Escribe el diccionario en un archivo de formato CSV.\n",
    "\n",
    "En Spark se puede reescribir con las siguientes lienas de código, pero considera cada valor como una columna diferente."
   ]
  },
  {
   "cell_type": "code",
   "execution_count": 7,
   "metadata": {},
   "outputs": [],
   "source": [
    "rdd = sc.parallelize([dictionary])\n",
    "df2 = spark.read.csv(rdd)\n",
    "#df2.show(e)"
   ]
  },
  {
   "cell_type": "markdown",
   "metadata": {},
   "source": [
    "Otra forma de reaizar el objetivo es generando un archvo que tiene como nombre ***test.csv*** y que se vaya escribiendo línea por línea del código."
   ]
  },
  {
   "cell_type": "code",
   "execution_count": 8,
   "metadata": {},
   "outputs": [],
   "source": [
    "with open('test.csv', 'w') as f:\n",
    "    f.write(\"airline_id,country\\n\")\n",
    "    for key in dictionary.keys():\n",
    "        f.write(\"%s,%s\\n\"%(key,dictionary[key]))"
   ]
  },
  {
   "cell_type": "markdown",
   "metadata": {},
   "source": [
    "Se muestra que el archivo ***test.csv*** se creó de manera correcta en el mismo directorio de trabajo."
   ]
  },
  {
   "cell_type": "code",
   "execution_count": 9,
   "metadata": {},
   "outputs": [
    {
     "name": "stdout",
     "output_type": "stream",
     "text": [
      "demo.csv\t  profeco.pdf.zip\t\t\t   spark-warehouse\r\n",
      "dict.csv\t  qiskit_exp4_256_apertura_clausura.ipynb  test.csv\r\n",
      "mnist_png\t  quantum_clasification.ipynb\t\t   Untitled.ipynb\r\n",
      "mnist_png.tar.gz  quantum_classification_scale_gray.ipynb\r\n"
     ]
    }
   ],
   "source": [
    "!ls"
   ]
  },
  {
   "cell_type": "markdown",
   "metadata": {},
   "source": [
    "## Punto 3\n",
    "\n",
    "Leer el archivo ***test.csv*** generado en el punto anterior con el propósito de realizar el comando inner join con ***demo.csv***\n",
    "\n",
    "Este punto se puede realizar de dos maneras, la primera forma  es posible al llamar el comando join e indicar la condición que se mantengan los  datos que tengan el mismo valor y se agregaran como dos columnas posteriores a *active*."
   ]
  },
  {
   "cell_type": "code",
   "execution_count": 10,
   "metadata": {},
   "outputs": [
    {
     "name": "stdout",
     "output_type": "stream",
     "text": [
      "+----------+--------------------------------------------+-----+----+----+--------+--------------+------+----------+--------------+\n",
      "|airline_id|name                                        |alias|iata|icao|callsign|country       |active|airline_id|country       |\n",
      "+----------+--------------------------------------------+-----+----+----+--------+--------------+------+----------+--------------+\n",
      "|-1        |Unknown                                     |\\N   |-   |N/A |\\N      |\\N            |Y     |-1        |\\N            |\n",
      "|1         |Private flight                              |\\N   |-   |N/A |null    |null          |Y     |1         |None          |\n",
      "|2         |135 Airways                                 |\\N   |null|GNL |GENERAL |United States |N     |2         |United States |\n",
      "|3         |1Time Airline                               |\\N   |1T  |RNX |NEXTIME |South Africa  |Y     |3         |South Africa  |\n",
      "|4         |2 Sqn No 1 Elementary Flying Training School|\\N   |null|WYT |null    |United Kingdom|N     |4         |United Kingdom|\n",
      "+----------+--------------------------------------------+-----+----+----+--------+--------------+------+----------+--------------+\n",
      "only showing top 5 rows\n",
      "\n",
      "(6162, 10)\n"
     ]
    }
   ],
   "source": [
    "df2 = sql_c.read.format('csv').options(header='true').load('test.csv')\n",
    "df3 = df.join(df2, df.airline_id == df2.airline_id)\n",
    "df3.show(5,False)\n",
    "\n",
    "print((df3.count(), len(df3.columns)))"
   ]
  },
  {
   "cell_type": "markdown",
   "metadata": {},
   "source": [
    "La segunda forma es posible en indicar en la función join, sobre el atributo que los dos comparten de la forma ***on=['airline_id']*** y ***how*** indicando que sea *inner*. Este caso sólo agrega la columna country en el dataframe de ***demo.csv***."
   ]
  },
  {
   "cell_type": "code",
   "execution_count": 11,
   "metadata": {},
   "outputs": [
    {
     "name": "stdout",
     "output_type": "stream",
     "text": [
      "+----------+--------------------------------------------+-----+----+----+--------+--------------+------+--------------+\n",
      "|airline_id|name                                        |alias|iata|icao|callsign|country       |active|country       |\n",
      "+----------+--------------------------------------------+-----+----+----+--------+--------------+------+--------------+\n",
      "|-1        |Unknown                                     |\\N   |-   |N/A |\\N      |\\N            |Y     |\\N            |\n",
      "|1         |Private flight                              |\\N   |-   |N/A |null    |null          |Y     |None          |\n",
      "|2         |135 Airways                                 |\\N   |null|GNL |GENERAL |United States |N     |United States |\n",
      "|3         |1Time Airline                               |\\N   |1T  |RNX |NEXTIME |South Africa  |Y     |South Africa  |\n",
      "|4         |2 Sqn No 1 Elementary Flying Training School|\\N   |null|WYT |null    |United Kingdom|N     |United Kingdom|\n",
      "+----------+--------------------------------------------+-----+----+----+--------+--------------+------+--------------+\n",
      "only showing top 5 rows\n",
      "\n",
      "(6162, 9)\n"
     ]
    }
   ],
   "source": [
    "df4 = df.join(df2, on=['airline_id'], how='inner')\n",
    "\n",
    "df4.show(5, False)\n",
    "print((df4.count(), len(df4.columns)))"
   ]
  }
 ],
 "metadata": {
  "kernelspec": {
   "display_name": "Python 3",
   "language": "python",
   "name": "python3"
  },
  "language_info": {
   "codemirror_mode": {
    "name": "ipython",
    "version": 3
   },
   "file_extension": ".py",
   "mimetype": "text/x-python",
   "name": "python",
   "nbconvert_exporter": "python",
   "pygments_lexer": "ipython3",
   "version": "3.7.6"
  }
 },
 "nbformat": 4,
 "nbformat_minor": 4
}
